{
 "cells": [
  {
   "cell_type": "code",
   "execution_count": 7,
   "metadata": {},
   "outputs": [],
   "source": [
    "import pandas as pd \n",
    "import os "
   ]
  },
  {
   "cell_type": "code",
   "execution_count": 8,
   "metadata": {},
   "outputs": [
    {
     "data": {
      "text/plain": [
       "(13100, 5)"
      ]
     },
     "execution_count": 8,
     "metadata": {},
     "output_type": "execute_result"
    }
   ],
   "source": [
    "meta_df = pd.read_csv(\"metadata.csv\")\n",
    "meta_df.shape"
   ]
  },
  {
   "cell_type": "code",
   "execution_count": 9,
   "metadata": {},
   "outputs": [],
   "source": [
    "train_meta_df = meta_df.iloc[:200,:]"
   ]
  },
  {
   "cell_type": "code",
   "execution_count": 10,
   "metadata": {},
   "outputs": [
    {
     "data": {
      "text/plain": [
       "Unnamed: 0    0\n",
       "id            0\n",
       "sentence      0\n",
       "file_name     0\n",
       "audio_path    0\n",
       "dtype: int64"
      ]
     },
     "execution_count": 10,
     "metadata": {},
     "output_type": "execute_result"
    }
   ],
   "source": [
    "train_meta_df.isnull().sum()"
   ]
  },
  {
   "cell_type": "code",
   "execution_count": 11,
   "metadata": {},
   "outputs": [
    {
     "data": {
      "text/plain": [
       "Unnamed: 0    200\n",
       "id            200\n",
       "sentence      200\n",
       "file_name     200\n",
       "audio_path    200\n",
       "dtype: int64"
      ]
     },
     "execution_count": 11,
     "metadata": {},
     "output_type": "execute_result"
    }
   ],
   "source": [
    "train_meta_df.count()"
   ]
  },
  {
   "cell_type": "code",
   "execution_count": 12,
   "metadata": {},
   "outputs": [],
   "source": [
    "compare = train_meta_df[\"file_name\"] == os.listdir(\"train/\")"
   ]
  },
  {
   "cell_type": "code",
   "execution_count": null,
   "metadata": {},
   "outputs": [
    {
     "data": {
      "text/plain": [
       "True"
      ]
     },
     "execution_count": 37,
     "metadata": {},
     "output_type": "execute_result"
    }
   ],
   "source": [
    "len(set(compare)) == 1"
   ]
  },
  {
   "cell_type": "code",
   "execution_count": 13,
   "metadata": {},
   "outputs": [],
   "source": [
    "test_meta_df = meta_df.iloc[200:250,:]"
   ]
  },
  {
   "cell_type": "code",
   "execution_count": 14,
   "metadata": {},
   "outputs": [
    {
     "data": {
      "text/html": [
       "<div>\n",
       "<style scoped>\n",
       "    .dataframe tbody tr th:only-of-type {\n",
       "        vertical-align: middle;\n",
       "    }\n",
       "\n",
       "    .dataframe tbody tr th {\n",
       "        vertical-align: top;\n",
       "    }\n",
       "\n",
       "    .dataframe thead th {\n",
       "        text-align: right;\n",
       "    }\n",
       "</style>\n",
       "<table border=\"1\" class=\"dataframe\">\n",
       "  <thead>\n",
       "    <tr style=\"text-align: right;\">\n",
       "      <th></th>\n",
       "      <th>Unnamed: 0</th>\n",
       "      <th>id</th>\n",
       "      <th>sentence</th>\n",
       "      <th>file_name</th>\n",
       "      <th>audio_path</th>\n",
       "    </tr>\n",
       "  </thead>\n",
       "  <tbody>\n",
       "    <tr>\n",
       "      <th>0</th>\n",
       "      <td>0</td>\n",
       "      <td>LJ001-0001</td>\n",
       "      <td>Printing, in the only sense with which we are ...</td>\n",
       "      <td>LJ001-0001.wav</td>\n",
       "      <td>/kaggle/input/ljspeech-dataset/LJSpeech-1.1/wa...</td>\n",
       "    </tr>\n",
       "    <tr>\n",
       "      <th>1</th>\n",
       "      <td>1</td>\n",
       "      <td>LJ001-0002</td>\n",
       "      <td>in being comparatively modern.</td>\n",
       "      <td>LJ001-0002.wav</td>\n",
       "      <td>/kaggle/input/ljspeech-dataset/LJSpeech-1.1/wa...</td>\n",
       "    </tr>\n",
       "    <tr>\n",
       "      <th>2</th>\n",
       "      <td>2</td>\n",
       "      <td>LJ001-0003</td>\n",
       "      <td>For although the Chinese took impressions from...</td>\n",
       "      <td>LJ001-0003.wav</td>\n",
       "      <td>/kaggle/input/ljspeech-dataset/LJSpeech-1.1/wa...</td>\n",
       "    </tr>\n",
       "    <tr>\n",
       "      <th>3</th>\n",
       "      <td>3</td>\n",
       "      <td>LJ001-0004</td>\n",
       "      <td>produced the block books, which were the immed...</td>\n",
       "      <td>LJ001-0004.wav</td>\n",
       "      <td>/kaggle/input/ljspeech-dataset/LJSpeech-1.1/wa...</td>\n",
       "    </tr>\n",
       "    <tr>\n",
       "      <th>4</th>\n",
       "      <td>4</td>\n",
       "      <td>LJ001-0005</td>\n",
       "      <td>the invention of movable metal letters in the ...</td>\n",
       "      <td>LJ001-0005.wav</td>\n",
       "      <td>/kaggle/input/ljspeech-dataset/LJSpeech-1.1/wa...</td>\n",
       "    </tr>\n",
       "  </tbody>\n",
       "</table>\n",
       "</div>"
      ],
      "text/plain": [
       "   Unnamed: 0          id                                           sentence  \\\n",
       "0           0  LJ001-0001  Printing, in the only sense with which we are ...   \n",
       "1           1  LJ001-0002                     in being comparatively modern.   \n",
       "2           2  LJ001-0003  For although the Chinese took impressions from...   \n",
       "3           3  LJ001-0004  produced the block books, which were the immed...   \n",
       "4           4  LJ001-0005  the invention of movable metal letters in the ...   \n",
       "\n",
       "        file_name                                         audio_path  \n",
       "0  LJ001-0001.wav  /kaggle/input/ljspeech-dataset/LJSpeech-1.1/wa...  \n",
       "1  LJ001-0002.wav  /kaggle/input/ljspeech-dataset/LJSpeech-1.1/wa...  \n",
       "2  LJ001-0003.wav  /kaggle/input/ljspeech-dataset/LJSpeech-1.1/wa...  \n",
       "3  LJ001-0004.wav  /kaggle/input/ljspeech-dataset/LJSpeech-1.1/wa...  \n",
       "4  LJ001-0005.wav  /kaggle/input/ljspeech-dataset/LJSpeech-1.1/wa...  "
      ]
     },
     "execution_count": 14,
     "metadata": {},
     "output_type": "execute_result"
    }
   ],
   "source": [
    "train_meta_df.head()"
   ]
  },
  {
   "cell_type": "code",
   "execution_count": 15,
   "metadata": {},
   "outputs": [
    {
     "data": {
      "text/plain": [
       "Unnamed: 0    0\n",
       "id            0\n",
       "sentence      0\n",
       "file_name     0\n",
       "audio_path    0\n",
       "dtype: int64"
      ]
     },
     "execution_count": 15,
     "metadata": {},
     "output_type": "execute_result"
    }
   ],
   "source": [
    "test_meta_df.isnull().sum()"
   ]
  },
  {
   "cell_type": "code",
   "execution_count": 16,
   "metadata": {},
   "outputs": [
    {
     "data": {
      "text/plain": [
       "Unnamed: 0    50\n",
       "id            50\n",
       "sentence      50\n",
       "file_name     50\n",
       "audio_path    50\n",
       "dtype: int64"
      ]
     },
     "execution_count": 16,
     "metadata": {},
     "output_type": "execute_result"
    }
   ],
   "source": [
    "test_meta_df.count()"
   ]
  },
  {
   "cell_type": "code",
   "execution_count": 18,
   "metadata": {},
   "outputs": [],
   "source": [
    "compare = test_meta_df[\"file_name\"] == os.listdir(\"test/\")"
   ]
  },
  {
   "cell_type": "code",
   "execution_count": 19,
   "metadata": {},
   "outputs": [
    {
     "data": {
      "text/plain": [
       "True"
      ]
     },
     "execution_count": 19,
     "metadata": {},
     "output_type": "execute_result"
    }
   ],
   "source": [
    "len(set(compare)) == 1"
   ]
  },
  {
   "cell_type": "code",
   "execution_count": 20,
   "metadata": {},
   "outputs": [],
   "source": [
    "import tensorflow as tf \n",
    "from tensorflow import keras "
   ]
  },
  {
   "cell_type": "code",
   "execution_count": 21,
   "metadata": {},
   "outputs": [],
   "source": [
    "characters = [x for x in \"abcdefghijklmnopqrstuvwxyz'?! \"]\n",
    "char_to_num = keras.layers.StringLookup(vocabulary=characters, oov_token=\"\")\n",
    "num_to_char = keras.layers.StringLookup(\n",
    "    vocabulary=char_to_num.get_vocabulary(), oov_token=\"\", invert=True\n",
    ")\n"
   ]
  },
  {
   "cell_type": "code",
   "execution_count": 22,
   "metadata": {},
   "outputs": [],
   "source": [
    "frame_length = 256\n",
    "frame_step = 160 \n",
    "fft_length = 384"
   ]
  },
  {
   "cell_type": "code",
   "execution_count": 23,
   "metadata": {},
   "outputs": [],
   "source": [
    "def encode_single_simple_train(wav_file, label):\n",
    "    file = tf.io.read_file(\"train/\"+wav_file + \".wav\")\n",
    "    audio, _ = tf.audio.decode_wav(file)\n",
    "    audio = tf.squeeze(audio, axis=-1)\n",
    "    audio = tf.cast(audio, tf.float32)\n",
    "    spectrogram = tf.signal.stft(\n",
    "        audio, frame_length=frame_length, frame_step=frame_step, fft_length=fft_length\n",
    "    )\n",
    "    spectrogram = tf.math.pow(spectrogram, 0.5)\n",
    "    spectrogram = tf.abs(spectrogram)\n",
    "    means = tf.math.reduce_mean(spectrogram, 1, keepdims=True)\n",
    "    stddevs = tf.math.reduce_std(spectrogram, 1, keepdims=True)\n",
    "    spectrogram = (spectrogram - means) / (stddevs + 1e-10)\n",
    "    label = tf.strings.lower(label)\n",
    "    label = tf.strings.unicode_split(label, input_encoding=\"UTF-8\")\n",
    "    label = char_to_num(label)\n",
    "    return spectrogram, label"
   ]
  },
  {
   "cell_type": "code",
   "execution_count": 24,
   "metadata": {},
   "outputs": [],
   "source": [
    "def encode_single_simple_test(wav_file, label):\n",
    "    file = tf.io.read_file(\"test/\"+wav_file + \".wav\")\n",
    "    audio, _ = tf.audio.decode_wav(file)\n",
    "    audio = tf.squeeze(audio, axis=-1)\n",
    "    audio = tf.cast(audio, tf.float32)\n",
    "    spectrogram = tf.signal.stft(\n",
    "        audio, frame_length=frame_length, frame_step=frame_step, fft_length=fft_length\n",
    "    )\n",
    "    spectrogram = tf.math.pow(spectrogram, 0.5)\n",
    "    spectrogram = tf.abs(spectrogram)\n",
    "    means = tf.math.reduce_mean(spectrogram, 1, keepdims=True)\n",
    "    stddevs = tf.math.reduce_std(spectrogram, 1, keepdims=True)\n",
    "    spectrogram = (spectrogram - means) / (stddevs + 1e-10)\n",
    "    label = tf.strings.lower(label)\n",
    "    label = tf.strings.unicode_split(label, input_encoding=\"UTF-8\")\n",
    "    label = char_to_num(label)\n",
    "    return spectrogram, label"
   ]
  },
  {
   "cell_type": "code",
   "execution_count": 25,
   "metadata": {},
   "outputs": [],
   "source": [
    "batch_size= 32\n",
    "train_dataset = tf.data.Dataset.from_tensor_slices(\n",
    "    (list(train_meta_df[\"id\"]),list(train_meta_df[\"sentence\"]))\n",
    ")\n",
    "train_dataset = (\n",
    "    train_dataset.map(encode_single_simple_train,num_parallel_calls=tf.data.AUTOTUNE)\n",
    "    .padded_batch(batch_size)\n",
    "   .prefetch(buffer_size=tf.data.AUTOTUNE)\n",
    ")\n"
   ]
  },
  {
   "cell_type": "code",
   "execution_count": 26,
   "metadata": {},
   "outputs": [],
   "source": [
    "test_dataset  = tf.data.Dataset.from_tensor_slices(\n",
    "    (list(test_meta_df[\"id\"]),list(test_meta_df[\"sentence\"]))\n",
    ")\n",
    "test_dataset=(\n",
    "    test_dataset.map(encode_single_simple_test,num_parallel_calls=tf.data.AUTOTUNE)\n",
    "    .padded_batch(batch_size)\n",
    "    .prefetch(buffer_size=tf.data.AUTOTUNE)\n",
    ")"
   ]
  },
  {
   "cell_type": "code",
   "execution_count": 27,
   "metadata": {},
   "outputs": [
    {
     "data": {
      "text/plain": [
       "<_TakeDataset element_spec=(TensorSpec(shape=(None, None, 193), dtype=tf.float32, name=None), TensorSpec(shape=(None, None), dtype=tf.int64, name=None))>"
      ]
     },
     "execution_count": 27,
     "metadata": {},
     "output_type": "execute_result"
    }
   ],
   "source": [
    "train_dataset.take(1)"
   ]
  },
  {
   "cell_type": "code",
   "execution_count": 28,
   "metadata": {},
   "outputs": [],
   "source": [
    "def CTCLoss(y_true, y_pred):\n",
    "    batch_len = tf.cast(tf.shape(y_true)[0], dtype=\"int64\")\n",
    "    input_length = tf.cast(tf.shape(y_pred)[1], dtype=\"int64\")\n",
    "    label_length = tf. cast(tf.shape(y_true)[1], dtype=\"int64\")\n",
    "    \n",
    "    input_length = input_length * tf.ones(shape=(batch_len, 1), dtype=\"int64\")\n",
    "    label_length = label_length * tf.ones(shape=(batch_len, 1), dtype=\"int64\")\n",
    "    \n",
    "    loss = keras.backend.ctc_batch_cost(y_true, y_pred, input_length, label_length)\n",
    "    return loss"
   ]
  },
  {
   "cell_type": "code",
   "execution_count": 29,
   "metadata": {},
   "outputs": [],
   "source": [
    "from keras import Sequential , layers\n",
    "from keras.layers import Reshape , Conv2D ,Input,BatchNormalization ,Bidirectional , GRU , Dense, LSTM, Dropout"
   ]
  },
  {
   "cell_type": "code",
   "execution_count": 30,
   "metadata": {},
   "outputs": [],
   "source": [
    "# model = Sequential()\n",
    "# input_spectrogram = layers.Input((None, fft_length // 2 + 1))\n",
    "# model.add(input_spectrogram)\n",
    "# model.add(Reshape((-1, fft_length // 2 + 1, 1)))\n",
    "# model.add(Conv2D(filters=32 , kernel_size= (3,3) ,strides=(2,2) , padding='same'  , activation='relu'))\n",
    "# model.add(BatchNormalization())\n",
    "# model.add(Reshape(target_shape=((-1, model.output_shape[-2] * model.output_shape[-1]))))\n",
    "# recurrent = layers.GRU(\n",
    "#         units=512,\n",
    "#         activation=\"tanh\",\n",
    "#         recurrent_activation=\"sigmoid\",\n",
    "#         use_bias=True,\n",
    "#         return_sequences=True,\n",
    "#         reset_after=True,\n",
    "#         name=f\"gru_\",\n",
    "#     )\n",
    "# model.add(Bidirectional(recurrent , merge_mode='concat'))\n",
    "# model.add(Dense(512 , activation='relu'))\n",
    "# model.add(Dropout(0.4))\n",
    "# model.add(Dense(32 , activation='softmax'))\n",
    "\n",
    "# model.summary()"
   ]
  },
  {
   "cell_type": "code",
   "execution_count": 40,
   "metadata": {},
   "outputs": [
    {
     "name": "stdout",
     "output_type": "stream",
     "text": [
      "<class 'int'>\n",
      "193\n"
     ]
    },
    {
     "data": {
      "text/html": [
       "<pre style=\"white-space:pre;overflow-x:auto;line-height:normal;font-family:Menlo,'DejaVu Sans Mono',consolas,'Courier New',monospace\"><span style=\"font-weight: bold\">Model: \"DeepSpeech_2\"</span>\n",
       "</pre>\n"
      ],
      "text/plain": [
       "\u001b[1mModel: \"DeepSpeech_2\"\u001b[0m\n"
      ]
     },
     "metadata": {},
     "output_type": "display_data"
    },
    {
     "data": {
      "text/html": [
       "<pre style=\"white-space:pre;overflow-x:auto;line-height:normal;font-family:Menlo,'DejaVu Sans Mono',consolas,'Courier New',monospace\">┏━━━━━━━━━━━━━━━━━━━━━━━━━━━━━━━━━━━━━━━━━━━━━━━━┳━━━━━━━━━━━━━━━━━━━━━━━━━━━━━━━━━━━━━┳━━━━━━━━━━━━━━━━━━━━━┓\n",
       "┃<span style=\"font-weight: bold\"> Layer (type)                                   </span>┃<span style=\"font-weight: bold\"> Output Shape                        </span>┃<span style=\"font-weight: bold\">             Param # </span>┃\n",
       "┡━━━━━━━━━━━━━━━━━━━━━━━━━━━━━━━━━━━━━━━━━━━━━━━━╇━━━━━━━━━━━━━━━━━━━━━━━━━━━━━━━━━━━━━╇━━━━━━━━━━━━━━━━━━━━━┩\n",
       "│ input (<span style=\"color: #0087ff; text-decoration-color: #0087ff\">InputLayer</span>)                             │ (<span style=\"color: #00d7ff; text-decoration-color: #00d7ff\">None</span>, <span style=\"color: #00d7ff; text-decoration-color: #00d7ff\">None</span>, <span style=\"color: #00af00; text-decoration-color: #00af00\">193</span>)                   │                   <span style=\"color: #00af00; text-decoration-color: #00af00\">0</span> │\n",
       "├────────────────────────────────────────────────┼─────────────────────────────────────┼─────────────────────┤\n",
       "│ expand_dim (<span style=\"color: #0087ff; text-decoration-color: #0087ff\">Reshape</span>)                           │ (<span style=\"color: #00d7ff; text-decoration-color: #00d7ff\">None</span>, <span style=\"color: #00d7ff; text-decoration-color: #00d7ff\">None</span>, <span style=\"color: #00af00; text-decoration-color: #00af00\">193</span>, <span style=\"color: #00af00; text-decoration-color: #00af00\">1</span>)                │                   <span style=\"color: #00af00; text-decoration-color: #00af00\">0</span> │\n",
       "├────────────────────────────────────────────────┼─────────────────────────────────────┼─────────────────────┤\n",
       "│ conv_1 (<span style=\"color: #0087ff; text-decoration-color: #0087ff\">Conv2D</span>)                                │ (<span style=\"color: #00d7ff; text-decoration-color: #00d7ff\">None</span>, <span style=\"color: #00d7ff; text-decoration-color: #00d7ff\">None</span>, <span style=\"color: #00af00; text-decoration-color: #00af00\">97</span>, <span style=\"color: #00af00; text-decoration-color: #00af00\">32</span>)                │              <span style=\"color: #00af00; text-decoration-color: #00af00\">14,432</span> │\n",
       "├────────────────────────────────────────────────┼─────────────────────────────────────┼─────────────────────┤\n",
       "│ conv_1_bn (<span style=\"color: #0087ff; text-decoration-color: #0087ff\">BatchNormalization</span>)                 │ (<span style=\"color: #00d7ff; text-decoration-color: #00d7ff\">None</span>, <span style=\"color: #00d7ff; text-decoration-color: #00d7ff\">None</span>, <span style=\"color: #00af00; text-decoration-color: #00af00\">97</span>, <span style=\"color: #00af00; text-decoration-color: #00af00\">32</span>)                │                 <span style=\"color: #00af00; text-decoration-color: #00af00\">128</span> │\n",
       "├────────────────────────────────────────────────┼─────────────────────────────────────┼─────────────────────┤\n",
       "│ conv_1_relu (<span style=\"color: #0087ff; text-decoration-color: #0087ff\">ReLU</span>)                             │ (<span style=\"color: #00d7ff; text-decoration-color: #00d7ff\">None</span>, <span style=\"color: #00d7ff; text-decoration-color: #00d7ff\">None</span>, <span style=\"color: #00af00; text-decoration-color: #00af00\">97</span>, <span style=\"color: #00af00; text-decoration-color: #00af00\">32</span>)                │                   <span style=\"color: #00af00; text-decoration-color: #00af00\">0</span> │\n",
       "├────────────────────────────────────────────────┼─────────────────────────────────────┼─────────────────────┤\n",
       "│ conv_2 (<span style=\"color: #0087ff; text-decoration-color: #0087ff\">Conv2D</span>)                                │ (<span style=\"color: #00d7ff; text-decoration-color: #00d7ff\">None</span>, <span style=\"color: #00d7ff; text-decoration-color: #00d7ff\">None</span>, <span style=\"color: #00af00; text-decoration-color: #00af00\">49</span>, <span style=\"color: #00af00; text-decoration-color: #00af00\">32</span>)                │             <span style=\"color: #00af00; text-decoration-color: #00af00\">236,544</span> │\n",
       "├────────────────────────────────────────────────┼─────────────────────────────────────┼─────────────────────┤\n",
       "│ conv_2_bn (<span style=\"color: #0087ff; text-decoration-color: #0087ff\">BatchNormalization</span>)                 │ (<span style=\"color: #00d7ff; text-decoration-color: #00d7ff\">None</span>, <span style=\"color: #00d7ff; text-decoration-color: #00d7ff\">None</span>, <span style=\"color: #00af00; text-decoration-color: #00af00\">49</span>, <span style=\"color: #00af00; text-decoration-color: #00af00\">32</span>)                │                 <span style=\"color: #00af00; text-decoration-color: #00af00\">128</span> │\n",
       "├────────────────────────────────────────────────┼─────────────────────────────────────┼─────────────────────┤\n",
       "│ conv_2_relu (<span style=\"color: #0087ff; text-decoration-color: #0087ff\">ReLU</span>)                             │ (<span style=\"color: #00d7ff; text-decoration-color: #00d7ff\">None</span>, <span style=\"color: #00d7ff; text-decoration-color: #00d7ff\">None</span>, <span style=\"color: #00af00; text-decoration-color: #00af00\">49</span>, <span style=\"color: #00af00; text-decoration-color: #00af00\">32</span>)                │                   <span style=\"color: #00af00; text-decoration-color: #00af00\">0</span> │\n",
       "├────────────────────────────────────────────────┼─────────────────────────────────────┼─────────────────────┤\n",
       "│ reshape_1 (<span style=\"color: #0087ff; text-decoration-color: #0087ff\">Reshape</span>)                            │ (<span style=\"color: #00d7ff; text-decoration-color: #00d7ff\">None</span>, <span style=\"color: #00d7ff; text-decoration-color: #00d7ff\">None</span>, <span style=\"color: #00af00; text-decoration-color: #00af00\">1568</span>)                  │                   <span style=\"color: #00af00; text-decoration-color: #00af00\">0</span> │\n",
       "├────────────────────────────────────────────────┼─────────────────────────────────────┼─────────────────────┤\n",
       "│ bidirectional (<span style=\"color: #0087ff; text-decoration-color: #0087ff\">Bidirectional</span>)                  │ (<span style=\"color: #00d7ff; text-decoration-color: #00d7ff\">None</span>, <span style=\"color: #00d7ff; text-decoration-color: #00d7ff\">None</span>, <span style=\"color: #00af00; text-decoration-color: #00af00\">1024</span>)                  │           <span style=\"color: #00af00; text-decoration-color: #00af00\">6,395,904</span> │\n",
       "├────────────────────────────────────────────────┼─────────────────────────────────────┼─────────────────────┤\n",
       "│ dense_1 (<span style=\"color: #0087ff; text-decoration-color: #0087ff\">Dense</span>)                                │ (<span style=\"color: #00d7ff; text-decoration-color: #00d7ff\">None</span>, <span style=\"color: #00d7ff; text-decoration-color: #00d7ff\">None</span>, <span style=\"color: #00af00; text-decoration-color: #00af00\">1024</span>)                  │           <span style=\"color: #00af00; text-decoration-color: #00af00\">1,049,600</span> │\n",
       "├────────────────────────────────────────────────┼─────────────────────────────────────┼─────────────────────┤\n",
       "│ dense_1_relu (<span style=\"color: #0087ff; text-decoration-color: #0087ff\">ReLU</span>)                            │ (<span style=\"color: #00d7ff; text-decoration-color: #00d7ff\">None</span>, <span style=\"color: #00d7ff; text-decoration-color: #00d7ff\">None</span>, <span style=\"color: #00af00; text-decoration-color: #00af00\">1024</span>)                  │                   <span style=\"color: #00af00; text-decoration-color: #00af00\">0</span> │\n",
       "├────────────────────────────────────────────────┼─────────────────────────────────────┼─────────────────────┤\n",
       "│ dropout (<span style=\"color: #0087ff; text-decoration-color: #0087ff\">Dropout</span>)                              │ (<span style=\"color: #00d7ff; text-decoration-color: #00d7ff\">None</span>, <span style=\"color: #00d7ff; text-decoration-color: #00d7ff\">None</span>, <span style=\"color: #00af00; text-decoration-color: #00af00\">1024</span>)                  │                   <span style=\"color: #00af00; text-decoration-color: #00af00\">0</span> │\n",
       "├────────────────────────────────────────────────┼─────────────────────────────────────┼─────────────────────┤\n",
       "│ dense (<span style=\"color: #0087ff; text-decoration-color: #0087ff\">Dense</span>)                                  │ (<span style=\"color: #00d7ff; text-decoration-color: #00d7ff\">None</span>, <span style=\"color: #00d7ff; text-decoration-color: #00d7ff\">None</span>, <span style=\"color: #00af00; text-decoration-color: #00af00\">32</span>)                    │              <span style=\"color: #00af00; text-decoration-color: #00af00\">32,800</span> │\n",
       "└────────────────────────────────────────────────┴─────────────────────────────────────┴─────────────────────┘\n",
       "</pre>\n"
      ],
      "text/plain": [
       "┏━━━━━━━━━━━━━━━━━━━━━━━━━━━━━━━━━━━━━━━━━━━━━━━━┳━━━━━━━━━━━━━━━━━━━━━━━━━━━━━━━━━━━━━┳━━━━━━━━━━━━━━━━━━━━━┓\n",
       "┃\u001b[1m \u001b[0m\u001b[1mLayer (type)                                  \u001b[0m\u001b[1m \u001b[0m┃\u001b[1m \u001b[0m\u001b[1mOutput Shape                       \u001b[0m\u001b[1m \u001b[0m┃\u001b[1m \u001b[0m\u001b[1m            Param #\u001b[0m\u001b[1m \u001b[0m┃\n",
       "┡━━━━━━━━━━━━━━━━━━━━━━━━━━━━━━━━━━━━━━━━━━━━━━━━╇━━━━━━━━━━━━━━━━━━━━━━━━━━━━━━━━━━━━━╇━━━━━━━━━━━━━━━━━━━━━┩\n",
       "│ input (\u001b[38;5;33mInputLayer\u001b[0m)                             │ (\u001b[38;5;45mNone\u001b[0m, \u001b[38;5;45mNone\u001b[0m, \u001b[38;5;34m193\u001b[0m)                   │                   \u001b[38;5;34m0\u001b[0m │\n",
       "├────────────────────────────────────────────────┼─────────────────────────────────────┼─────────────────────┤\n",
       "│ expand_dim (\u001b[38;5;33mReshape\u001b[0m)                           │ (\u001b[38;5;45mNone\u001b[0m, \u001b[38;5;45mNone\u001b[0m, \u001b[38;5;34m193\u001b[0m, \u001b[38;5;34m1\u001b[0m)                │                   \u001b[38;5;34m0\u001b[0m │\n",
       "├────────────────────────────────────────────────┼─────────────────────────────────────┼─────────────────────┤\n",
       "│ conv_1 (\u001b[38;5;33mConv2D\u001b[0m)                                │ (\u001b[38;5;45mNone\u001b[0m, \u001b[38;5;45mNone\u001b[0m, \u001b[38;5;34m97\u001b[0m, \u001b[38;5;34m32\u001b[0m)                │              \u001b[38;5;34m14,432\u001b[0m │\n",
       "├────────────────────────────────────────────────┼─────────────────────────────────────┼─────────────────────┤\n",
       "│ conv_1_bn (\u001b[38;5;33mBatchNormalization\u001b[0m)                 │ (\u001b[38;5;45mNone\u001b[0m, \u001b[38;5;45mNone\u001b[0m, \u001b[38;5;34m97\u001b[0m, \u001b[38;5;34m32\u001b[0m)                │                 \u001b[38;5;34m128\u001b[0m │\n",
       "├────────────────────────────────────────────────┼─────────────────────────────────────┼─────────────────────┤\n",
       "│ conv_1_relu (\u001b[38;5;33mReLU\u001b[0m)                             │ (\u001b[38;5;45mNone\u001b[0m, \u001b[38;5;45mNone\u001b[0m, \u001b[38;5;34m97\u001b[0m, \u001b[38;5;34m32\u001b[0m)                │                   \u001b[38;5;34m0\u001b[0m │\n",
       "├────────────────────────────────────────────────┼─────────────────────────────────────┼─────────────────────┤\n",
       "│ conv_2 (\u001b[38;5;33mConv2D\u001b[0m)                                │ (\u001b[38;5;45mNone\u001b[0m, \u001b[38;5;45mNone\u001b[0m, \u001b[38;5;34m49\u001b[0m, \u001b[38;5;34m32\u001b[0m)                │             \u001b[38;5;34m236,544\u001b[0m │\n",
       "├────────────────────────────────────────────────┼─────────────────────────────────────┼─────────────────────┤\n",
       "│ conv_2_bn (\u001b[38;5;33mBatchNormalization\u001b[0m)                 │ (\u001b[38;5;45mNone\u001b[0m, \u001b[38;5;45mNone\u001b[0m, \u001b[38;5;34m49\u001b[0m, \u001b[38;5;34m32\u001b[0m)                │                 \u001b[38;5;34m128\u001b[0m │\n",
       "├────────────────────────────────────────────────┼─────────────────────────────────────┼─────────────────────┤\n",
       "│ conv_2_relu (\u001b[38;5;33mReLU\u001b[0m)                             │ (\u001b[38;5;45mNone\u001b[0m, \u001b[38;5;45mNone\u001b[0m, \u001b[38;5;34m49\u001b[0m, \u001b[38;5;34m32\u001b[0m)                │                   \u001b[38;5;34m0\u001b[0m │\n",
       "├────────────────────────────────────────────────┼─────────────────────────────────────┼─────────────────────┤\n",
       "│ reshape_1 (\u001b[38;5;33mReshape\u001b[0m)                            │ (\u001b[38;5;45mNone\u001b[0m, \u001b[38;5;45mNone\u001b[0m, \u001b[38;5;34m1568\u001b[0m)                  │                   \u001b[38;5;34m0\u001b[0m │\n",
       "├────────────────────────────────────────────────┼─────────────────────────────────────┼─────────────────────┤\n",
       "│ bidirectional (\u001b[38;5;33mBidirectional\u001b[0m)                  │ (\u001b[38;5;45mNone\u001b[0m, \u001b[38;5;45mNone\u001b[0m, \u001b[38;5;34m1024\u001b[0m)                  │           \u001b[38;5;34m6,395,904\u001b[0m │\n",
       "├────────────────────────────────────────────────┼─────────────────────────────────────┼─────────────────────┤\n",
       "│ dense_1 (\u001b[38;5;33mDense\u001b[0m)                                │ (\u001b[38;5;45mNone\u001b[0m, \u001b[38;5;45mNone\u001b[0m, \u001b[38;5;34m1024\u001b[0m)                  │           \u001b[38;5;34m1,049,600\u001b[0m │\n",
       "├────────────────────────────────────────────────┼─────────────────────────────────────┼─────────────────────┤\n",
       "│ dense_1_relu (\u001b[38;5;33mReLU\u001b[0m)                            │ (\u001b[38;5;45mNone\u001b[0m, \u001b[38;5;45mNone\u001b[0m, \u001b[38;5;34m1024\u001b[0m)                  │                   \u001b[38;5;34m0\u001b[0m │\n",
       "├────────────────────────────────────────────────┼─────────────────────────────────────┼─────────────────────┤\n",
       "│ dropout (\u001b[38;5;33mDropout\u001b[0m)                              │ (\u001b[38;5;45mNone\u001b[0m, \u001b[38;5;45mNone\u001b[0m, \u001b[38;5;34m1024\u001b[0m)                  │                   \u001b[38;5;34m0\u001b[0m │\n",
       "├────────────────────────────────────────────────┼─────────────────────────────────────┼─────────────────────┤\n",
       "│ dense (\u001b[38;5;33mDense\u001b[0m)                                  │ (\u001b[38;5;45mNone\u001b[0m, \u001b[38;5;45mNone\u001b[0m, \u001b[38;5;34m32\u001b[0m)                    │              \u001b[38;5;34m32,800\u001b[0m │\n",
       "└────────────────────────────────────────────────┴─────────────────────────────────────┴─────────────────────┘\n"
      ]
     },
     "metadata": {},
     "output_type": "display_data"
    },
    {
     "data": {
      "text/html": [
       "<pre style=\"white-space:pre;overflow-x:auto;line-height:normal;font-family:Menlo,'DejaVu Sans Mono',consolas,'Courier New',monospace\"><span style=\"font-weight: bold\"> Total params: </span><span style=\"color: #00af00; text-decoration-color: #00af00\">7,729,536</span> (29.49 MB)\n",
       "</pre>\n"
      ],
      "text/plain": [
       "\u001b[1m Total params: \u001b[0m\u001b[38;5;34m7,729,536\u001b[0m (29.49 MB)\n"
      ]
     },
     "metadata": {},
     "output_type": "display_data"
    },
    {
     "data": {
      "text/html": [
       "<pre style=\"white-space:pre;overflow-x:auto;line-height:normal;font-family:Menlo,'DejaVu Sans Mono',consolas,'Courier New',monospace\"><span style=\"font-weight: bold\"> Trainable params: </span><span style=\"color: #00af00; text-decoration-color: #00af00\">7,729,408</span> (29.49 MB)\n",
       "</pre>\n"
      ],
      "text/plain": [
       "\u001b[1m Trainable params: \u001b[0m\u001b[38;5;34m7,729,408\u001b[0m (29.49 MB)\n"
      ]
     },
     "metadata": {},
     "output_type": "display_data"
    },
    {
     "data": {
      "text/html": [
       "<pre style=\"white-space:pre;overflow-x:auto;line-height:normal;font-family:Menlo,'DejaVu Sans Mono',consolas,'Courier New',monospace\"><span style=\"font-weight: bold\"> Non-trainable params: </span><span style=\"color: #00af00; text-decoration-color: #00af00\">128</span> (512.00 B)\n",
       "</pre>\n"
      ],
      "text/plain": [
       "\u001b[1m Non-trainable params: \u001b[0m\u001b[38;5;34m128\u001b[0m (512.00 B)\n"
      ]
     },
     "metadata": {},
     "output_type": "display_data"
    }
   ],
   "source": [
    "input_dim=fft_length // 2 + 1\n",
    "output_dim=char_to_num.vocabulary_size()\n",
    "rnn_units=512\n",
    "print(type(input_dim))\n",
    "print(input_dim)\n",
    "input_spectrogram = Input(shape=(None, input_dim), name=\"input\")\n",
    "x = layers.Reshape((-1, input_dim, 1), name=\"expand_dim\")(input_spectrogram)\n",
    "\n",
    "x = layers.Conv2D(\n",
    "    filters=32,\n",
    "    kernel_size=[11, 41],\n",
    "    strides=[2, 2],\n",
    "    padding=\"same\",\n",
    "    use_bias=False,\n",
    "    name=\"conv_1\",\n",
    ")(x)\n",
    "x = layers.BatchNormalization(name=\"conv_1_bn\")(x)\n",
    "x = layers.ReLU(name=\"conv_1_relu\")(x)\n",
    "\n",
    "x = layers.Conv2D(\n",
    "    filters=32,\n",
    "    kernel_size=[11, 21],\n",
    "    strides=[1, 2],\n",
    "    padding=\"same\",\n",
    "    use_bias=False,\n",
    "    name=\"conv_2\",\n",
    ")(x)\n",
    "x = layers.BatchNormalization(name=\"conv_2_bn\")(x)\n",
    "x = layers.ReLU(name=\"conv_2_relu\")(x)\n",
    "\n",
    "x = layers.Reshape((-1, x.shape[-2] * x.shape[-1]))(x)\n",
    "\n",
    "# for i in range(1, rnn_layers + 1):\n",
    "recurrent = layers.GRU(\n",
    "    units=rnn_units,\n",
    "    activation=\"tanh\",\n",
    "    recurrent_activation=\"sigmoid\",\n",
    "    use_bias=True,\n",
    "    return_sequences=True,\n",
    "    reset_after=True,\n",
    "    name=f\"gru\",\n",
    ")\n",
    "x = layers.Bidirectional(\n",
    "    recurrent, name=f\"bidirectional\", merge_mode=\"concat\"\n",
    ")(x)\n",
    "\n",
    "\n",
    "# Dense layer\n",
    "x = layers.Dense(units=rnn_units * 2, name=\"dense_1\")(x)\n",
    "x = layers.ReLU(name=\"dense_1_relu\")(x)\n",
    "x = layers.Dropout(rate=0.5)(x)\n",
    "output = layers.Dense(units=output_dim + 1, activation=\"softmax\")(x)\n",
    "\n",
    "model = keras.Model(input_spectrogram, output, name=\"DeepSpeech_2\")\n",
    "\n",
    "# Optimizer\n",
    "opt = keras.optimizers.Adam(learning_rate=1e-4)\n",
    "\n",
    "# Compile the model and return\n",
    "model.compile(optimizer=opt, loss=CTCLoss)\n",
    "\n",
    "# Assuming fft_length and char_to_num are defined earlier\n",
    "# Get the model\n",
    "\n",
    "\n",
    "model.summary(line_length=110)"
   ]
  },
  {
   "cell_type": "code",
   "execution_count": 41,
   "metadata": {},
   "outputs": [],
   "source": [
    "model.compile(optimizer='adam' , loss=CTCLoss , metrics=['accuracy'] ) "
   ]
  },
  {
   "cell_type": "code",
   "execution_count": 42,
   "metadata": {},
   "outputs": [
    {
     "name": "stdout",
     "output_type": "stream",
     "text": [
      "Epoch 1/20\n",
      "WARNING:tensorflow:From d:\\Installation\\Python\\Lib\\site-packages\\keras\\src\\legacy\\backend.py:666: The name tf.nn.ctc_loss is deprecated. Please use tf.compat.v1.nn.ctc_loss instead.\n",
      "\n"
     ]
    },
    {
     "ename": "InvalidArgumentError",
     "evalue": "Graph execution error:\n\nDetected at node Equal defined at (most recent call last):\n  File \"<frozen runpy>\", line 198, in _run_module_as_main\n\n  File \"<frozen runpy>\", line 88, in _run_code\n\n  File \"C:\\Users\\DELL\\AppData\\Roaming\\Python\\Python312\\site-packages\\ipykernel_launcher.py\", line 18, in <module>\n\n  File \"C:\\Users\\DELL\\AppData\\Roaming\\Python\\Python312\\site-packages\\traitlets\\config\\application.py\", line 1075, in launch_instance\n\n  File \"C:\\Users\\DELL\\AppData\\Roaming\\Python\\Python312\\site-packages\\ipykernel\\kernelapp.py\", line 739, in start\n\n  File \"C:\\Users\\DELL\\AppData\\Roaming\\Python\\Python312\\site-packages\\tornado\\platform\\asyncio.py\", line 205, in start\n\n  File \"d:\\Installation\\Python\\Lib\\asyncio\\base_events.py\", line 639, in run_forever\n\n  File \"d:\\Installation\\Python\\Lib\\asyncio\\base_events.py\", line 1985, in _run_once\n\n  File \"d:\\Installation\\Python\\Lib\\asyncio\\events.py\", line 88, in _run\n\n  File \"C:\\Users\\DELL\\AppData\\Roaming\\Python\\Python312\\site-packages\\ipykernel\\kernelbase.py\", line 545, in dispatch_queue\n\n  File \"C:\\Users\\DELL\\AppData\\Roaming\\Python\\Python312\\site-packages\\ipykernel\\kernelbase.py\", line 534, in process_one\n\n  File \"C:\\Users\\DELL\\AppData\\Roaming\\Python\\Python312\\site-packages\\ipykernel\\kernelbase.py\", line 437, in dispatch_shell\n\n  File \"C:\\Users\\DELL\\AppData\\Roaming\\Python\\Python312\\site-packages\\ipykernel\\ipkernel.py\", line 359, in execute_request\n\n  File \"C:\\Users\\DELL\\AppData\\Roaming\\Python\\Python312\\site-packages\\ipykernel\\kernelbase.py\", line 778, in execute_request\n\n  File \"C:\\Users\\DELL\\AppData\\Roaming\\Python\\Python312\\site-packages\\ipykernel\\ipkernel.py\", line 446, in do_execute\n\n  File \"C:\\Users\\DELL\\AppData\\Roaming\\Python\\Python312\\site-packages\\ipykernel\\zmqshell.py\", line 549, in run_cell\n\n  File \"C:\\Users\\DELL\\AppData\\Roaming\\Python\\Python312\\site-packages\\IPython\\core\\interactiveshell.py\", line 3075, in run_cell\n\n  File \"C:\\Users\\DELL\\AppData\\Roaming\\Python\\Python312\\site-packages\\IPython\\core\\interactiveshell.py\", line 3130, in _run_cell\n\n  File \"C:\\Users\\DELL\\AppData\\Roaming\\Python\\Python312\\site-packages\\IPython\\core\\async_helpers.py\", line 129, in _pseudo_sync_runner\n\n  File \"C:\\Users\\DELL\\AppData\\Roaming\\Python\\Python312\\site-packages\\IPython\\core\\interactiveshell.py\", line 3334, in run_cell_async\n\n  File \"C:\\Users\\DELL\\AppData\\Roaming\\Python\\Python312\\site-packages\\IPython\\core\\interactiveshell.py\", line 3517, in run_ast_nodes\n\n  File \"C:\\Users\\DELL\\AppData\\Roaming\\Python\\Python312\\site-packages\\IPython\\core\\interactiveshell.py\", line 3577, in run_code\n\n  File \"C:\\Users\\DELL\\AppData\\Local\\Temp\\ipykernel_19424\\3208831943.py\", line 1, in <module>\n\n  File \"d:\\Installation\\Python\\Lib\\site-packages\\keras\\src\\utils\\traceback_utils.py\", line 118, in error_handler\n\n  File \"d:\\Installation\\Python\\Lib\\site-packages\\keras\\src\\backend\\tensorflow\\trainer.py\", line 323, in fit\n\n  File \"d:\\Installation\\Python\\Lib\\site-packages\\keras\\src\\backend\\tensorflow\\trainer.py\", line 117, in one_step_on_iterator\n\n  File \"d:\\Installation\\Python\\Lib\\site-packages\\keras\\src\\backend\\tensorflow\\trainer.py\", line 105, in one_step_on_data\n\n  File \"d:\\Installation\\Python\\Lib\\site-packages\\keras\\src\\backend\\tensorflow\\trainer.py\", line 76, in train_step\n\n  File \"d:\\Installation\\Python\\Lib\\site-packages\\keras\\src\\trainers\\trainer.py\", line 375, in compute_metrics\n\n  File \"d:\\Installation\\Python\\Lib\\site-packages\\keras\\src\\trainers\\compile_utils.py\", line 331, in update_state\n\n  File \"d:\\Installation\\Python\\Lib\\site-packages\\keras\\src\\trainers\\compile_utils.py\", line 18, in update_state\n\n  File \"d:\\Installation\\Python\\Lib\\site-packages\\keras\\src\\metrics\\reduction_metrics.py\", line 199, in update_state\n\n  File \"d:\\Installation\\Python\\Lib\\site-packages\\keras\\src\\metrics\\accuracy_metrics.py\", line 252, in sparse_categorical_accuracy\n\n  File \"d:\\Installation\\Python\\Lib\\site-packages\\keras\\src\\ops\\numpy.py\", line 2464, in equal\n\n  File \"d:\\Installation\\Python\\Lib\\site-packages\\keras\\src\\backend\\tensorflow\\numpy.py\", line 770, in equal\n\nIncompatible shapes: [32,168] vs. [32,497]\n\t [[{{node Equal}}]] [Op:__inference_one_step_on_iterator_6998]",
     "output_type": "error",
     "traceback": [
      "\u001b[1;31m---------------------------------------------------------------------------\u001b[0m",
      "\u001b[1;31mInvalidArgumentError\u001b[0m                      Traceback (most recent call last)",
      "Cell \u001b[1;32mIn[42], line 1\u001b[0m\n\u001b[1;32m----> 1\u001b[0m hist \u001b[38;5;241m=\u001b[39m \u001b[43mmodel\u001b[49m\u001b[38;5;241;43m.\u001b[39;49m\u001b[43mfit\u001b[49m\u001b[43m(\u001b[49m\u001b[43mtrain_dataset\u001b[49m\u001b[43m \u001b[49m\u001b[43m,\u001b[49m\u001b[43m \u001b[49m\u001b[43mvalidation_data\u001b[49m\u001b[38;5;241;43m=\u001b[39;49m\u001b[43m \u001b[49m\u001b[43mtest_dataset\u001b[49m\u001b[43m \u001b[49m\u001b[43m,\u001b[49m\u001b[43mepochs\u001b[49m\u001b[38;5;241;43m=\u001b[39;49m\u001b[38;5;241;43m20\u001b[39;49m\u001b[43m)\u001b[49m\n",
      "File \u001b[1;32md:\\Installation\\Python\\Lib\\site-packages\\keras\\src\\utils\\traceback_utils.py:123\u001b[0m, in \u001b[0;36mfilter_traceback.<locals>.error_handler\u001b[1;34m(*args, **kwargs)\u001b[0m\n\u001b[0;32m    120\u001b[0m     filtered_tb \u001b[38;5;241m=\u001b[39m _process_traceback_frames(e\u001b[38;5;241m.\u001b[39m__traceback__)\n\u001b[0;32m    121\u001b[0m     \u001b[38;5;66;03m# To get the full stack trace, call:\u001b[39;00m\n\u001b[0;32m    122\u001b[0m     \u001b[38;5;66;03m# `keras.config.disable_traceback_filtering()`\u001b[39;00m\n\u001b[1;32m--> 123\u001b[0m     \u001b[38;5;28;01mraise\u001b[39;00m e\u001b[38;5;241m.\u001b[39mwith_traceback(filtered_tb) \u001b[38;5;28;01mfrom\u001b[39;00m \u001b[38;5;28;01mNone\u001b[39;00m\n\u001b[0;32m    124\u001b[0m \u001b[38;5;28;01mfinally\u001b[39;00m:\n\u001b[0;32m    125\u001b[0m     \u001b[38;5;28;01mdel\u001b[39;00m filtered_tb\n",
      "File \u001b[1;32md:\\Installation\\Python\\Lib\\site-packages\\tensorflow\\python\\eager\\execute.py:53\u001b[0m, in \u001b[0;36mquick_execute\u001b[1;34m(op_name, num_outputs, inputs, attrs, ctx, name)\u001b[0m\n\u001b[0;32m     51\u001b[0m \u001b[38;5;28;01mtry\u001b[39;00m:\n\u001b[0;32m     52\u001b[0m   ctx\u001b[38;5;241m.\u001b[39mensure_initialized()\n\u001b[1;32m---> 53\u001b[0m   tensors \u001b[38;5;241m=\u001b[39m pywrap_tfe\u001b[38;5;241m.\u001b[39mTFE_Py_Execute(ctx\u001b[38;5;241m.\u001b[39m_handle, device_name, op_name,\n\u001b[0;32m     54\u001b[0m                                       inputs, attrs, num_outputs)\n\u001b[0;32m     55\u001b[0m \u001b[38;5;28;01mexcept\u001b[39;00m core\u001b[38;5;241m.\u001b[39m_NotOkStatusException \u001b[38;5;28;01mas\u001b[39;00m e:\n\u001b[0;32m     56\u001b[0m   \u001b[38;5;28;01mif\u001b[39;00m name \u001b[38;5;129;01mis\u001b[39;00m \u001b[38;5;129;01mnot\u001b[39;00m \u001b[38;5;28;01mNone\u001b[39;00m:\n",
      "\u001b[1;31mInvalidArgumentError\u001b[0m: Graph execution error:\n\nDetected at node Equal defined at (most recent call last):\n  File \"<frozen runpy>\", line 198, in _run_module_as_main\n\n  File \"<frozen runpy>\", line 88, in _run_code\n\n  File \"C:\\Users\\DELL\\AppData\\Roaming\\Python\\Python312\\site-packages\\ipykernel_launcher.py\", line 18, in <module>\n\n  File \"C:\\Users\\DELL\\AppData\\Roaming\\Python\\Python312\\site-packages\\traitlets\\config\\application.py\", line 1075, in launch_instance\n\n  File \"C:\\Users\\DELL\\AppData\\Roaming\\Python\\Python312\\site-packages\\ipykernel\\kernelapp.py\", line 739, in start\n\n  File \"C:\\Users\\DELL\\AppData\\Roaming\\Python\\Python312\\site-packages\\tornado\\platform\\asyncio.py\", line 205, in start\n\n  File \"d:\\Installation\\Python\\Lib\\asyncio\\base_events.py\", line 639, in run_forever\n\n  File \"d:\\Installation\\Python\\Lib\\asyncio\\base_events.py\", line 1985, in _run_once\n\n  File \"d:\\Installation\\Python\\Lib\\asyncio\\events.py\", line 88, in _run\n\n  File \"C:\\Users\\DELL\\AppData\\Roaming\\Python\\Python312\\site-packages\\ipykernel\\kernelbase.py\", line 545, in dispatch_queue\n\n  File \"C:\\Users\\DELL\\AppData\\Roaming\\Python\\Python312\\site-packages\\ipykernel\\kernelbase.py\", line 534, in process_one\n\n  File \"C:\\Users\\DELL\\AppData\\Roaming\\Python\\Python312\\site-packages\\ipykernel\\kernelbase.py\", line 437, in dispatch_shell\n\n  File \"C:\\Users\\DELL\\AppData\\Roaming\\Python\\Python312\\site-packages\\ipykernel\\ipkernel.py\", line 359, in execute_request\n\n  File \"C:\\Users\\DELL\\AppData\\Roaming\\Python\\Python312\\site-packages\\ipykernel\\kernelbase.py\", line 778, in execute_request\n\n  File \"C:\\Users\\DELL\\AppData\\Roaming\\Python\\Python312\\site-packages\\ipykernel\\ipkernel.py\", line 446, in do_execute\n\n  File \"C:\\Users\\DELL\\AppData\\Roaming\\Python\\Python312\\site-packages\\ipykernel\\zmqshell.py\", line 549, in run_cell\n\n  File \"C:\\Users\\DELL\\AppData\\Roaming\\Python\\Python312\\site-packages\\IPython\\core\\interactiveshell.py\", line 3075, in run_cell\n\n  File \"C:\\Users\\DELL\\AppData\\Roaming\\Python\\Python312\\site-packages\\IPython\\core\\interactiveshell.py\", line 3130, in _run_cell\n\n  File \"C:\\Users\\DELL\\AppData\\Roaming\\Python\\Python312\\site-packages\\IPython\\core\\async_helpers.py\", line 129, in _pseudo_sync_runner\n\n  File \"C:\\Users\\DELL\\AppData\\Roaming\\Python\\Python312\\site-packages\\IPython\\core\\interactiveshell.py\", line 3334, in run_cell_async\n\n  File \"C:\\Users\\DELL\\AppData\\Roaming\\Python\\Python312\\site-packages\\IPython\\core\\interactiveshell.py\", line 3517, in run_ast_nodes\n\n  File \"C:\\Users\\DELL\\AppData\\Roaming\\Python\\Python312\\site-packages\\IPython\\core\\interactiveshell.py\", line 3577, in run_code\n\n  File \"C:\\Users\\DELL\\AppData\\Local\\Temp\\ipykernel_19424\\3208831943.py\", line 1, in <module>\n\n  File \"d:\\Installation\\Python\\Lib\\site-packages\\keras\\src\\utils\\traceback_utils.py\", line 118, in error_handler\n\n  File \"d:\\Installation\\Python\\Lib\\site-packages\\keras\\src\\backend\\tensorflow\\trainer.py\", line 323, in fit\n\n  File \"d:\\Installation\\Python\\Lib\\site-packages\\keras\\src\\backend\\tensorflow\\trainer.py\", line 117, in one_step_on_iterator\n\n  File \"d:\\Installation\\Python\\Lib\\site-packages\\keras\\src\\backend\\tensorflow\\trainer.py\", line 105, in one_step_on_data\n\n  File \"d:\\Installation\\Python\\Lib\\site-packages\\keras\\src\\backend\\tensorflow\\trainer.py\", line 76, in train_step\n\n  File \"d:\\Installation\\Python\\Lib\\site-packages\\keras\\src\\trainers\\trainer.py\", line 375, in compute_metrics\n\n  File \"d:\\Installation\\Python\\Lib\\site-packages\\keras\\src\\trainers\\compile_utils.py\", line 331, in update_state\n\n  File \"d:\\Installation\\Python\\Lib\\site-packages\\keras\\src\\trainers\\compile_utils.py\", line 18, in update_state\n\n  File \"d:\\Installation\\Python\\Lib\\site-packages\\keras\\src\\metrics\\reduction_metrics.py\", line 199, in update_state\n\n  File \"d:\\Installation\\Python\\Lib\\site-packages\\keras\\src\\metrics\\accuracy_metrics.py\", line 252, in sparse_categorical_accuracy\n\n  File \"d:\\Installation\\Python\\Lib\\site-packages\\keras\\src\\ops\\numpy.py\", line 2464, in equal\n\n  File \"d:\\Installation\\Python\\Lib\\site-packages\\keras\\src\\backend\\tensorflow\\numpy.py\", line 770, in equal\n\nIncompatible shapes: [32,168] vs. [32,497]\n\t [[{{node Equal}}]] [Op:__inference_one_step_on_iterator_6998]"
     ]
    }
   ],
   "source": [
    "hist = model.fit(train_dataset , validation_data= test_dataset ,epochs=20)"
   ]
  },
  {
   "cell_type": "code",
   "execution_count": null,
   "metadata": {},
   "outputs": [],
   "source": []
  }
 ],
 "metadata": {
  "kernelspec": {
   "display_name": "Python 3",
   "language": "python",
   "name": "python3"
  },
  "language_info": {
   "codemirror_mode": {
    "name": "ipython",
    "version": 3
   },
   "file_extension": ".py",
   "mimetype": "text/x-python",
   "name": "python",
   "nbconvert_exporter": "python",
   "pygments_lexer": "ipython3",
   "version": "3.12.2"
  }
 },
 "nbformat": 4,
 "nbformat_minor": 2
}
