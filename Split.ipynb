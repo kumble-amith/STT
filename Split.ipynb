{
 "cells": [
  {
   "cell_type": "code",
   "execution_count": 1,
   "metadata": {},
   "outputs": [],
   "source": [
    "import shutil\n",
    "import os "
   ]
  },
  {
   "cell_type": "code",
   "execution_count": 6,
   "metadata": {},
   "outputs": [],
   "source": [
    "audio_files = os.listdir(\"wavs/\")\n",
    "for i in range(200):\n",
    "    shutil.move(f\"wavs/{audio_files[i]}\" , f\"train/{audio_files[i]}\")"
   ]
  },
  {
   "cell_type": "code",
   "execution_count": 9,
   "metadata": {},
   "outputs": [],
   "source": [
    "audio_files = os.listdir(\"wavs/\")\n",
    "for i in range(50):\n",
    "    shutil.move(f\"wavs/{audio_files[i]}\" , f\"test/{audio_files[i]}\")"
   ]
  },
  {
   "cell_type": "code",
   "execution_count": 2,
   "metadata": {},
   "outputs": [],
   "source": [
    "# audio_files = os.listdir(\"train/\")\n",
    "# for i in range(500):\n",
    "#     shutil.move(f\"train/{audio_files[i]}\" , f\"wavs/{audio_files[i]}\")"
   ]
  },
  {
   "cell_type": "code",
   "execution_count": 3,
   "metadata": {},
   "outputs": [],
   "source": [
    "# audio_files = os.listdir(\"test/\")\n",
    "# for i in range(100):\n",
    "#     shutil.move(f\"test/{audio_files[i]}\" , f\"wavs/{audio_files[i]}\")"
   ]
  },
  {
   "cell_type": "code",
   "execution_count": null,
   "metadata": {},
   "outputs": [],
   "source": []
  }
 ],
 "metadata": {
  "kernelspec": {
   "display_name": "Python 3",
   "language": "python",
   "name": "python3"
  },
  "language_info": {
   "codemirror_mode": {
    "name": "ipython",
    "version": 3
   },
   "file_extension": ".py",
   "mimetype": "text/x-python",
   "name": "python",
   "nbconvert_exporter": "python",
   "pygments_lexer": "ipython3",
   "version": "3.12.2"
  }
 },
 "nbformat": 4,
 "nbformat_minor": 2
}
